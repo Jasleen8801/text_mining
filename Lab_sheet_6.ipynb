{
  "nbformat": 4,
  "nbformat_minor": 0,
  "metadata": {
    "colab": {
      "provenance": [],
      "include_colab_link": true
    },
    "kernelspec": {
      "name": "python3",
      "display_name": "Python 3"
    },
    "language_info": {
      "name": "python"
    }
  },
  "cells": [
    {
      "cell_type": "markdown",
      "metadata": {
        "id": "view-in-github",
        "colab_type": "text"
      },
      "source": [
        "<a href=\"https://colab.research.google.com/github/Jasleen8801/text_mining/blob/main/Lab_sheet_6.ipynb\" target=\"_parent\"><img src=\"https://colab.research.google.com/assets/colab-badge.svg\" alt=\"Open In Colab\"/></a>"
      ]
    },
    {
      "cell_type": "markdown",
      "source": [
        "# **Lab Sheet6: Content Analysis**"
      ],
      "metadata": {
        "id": "GHzKi21YDo-N"
      }
    },
    {
      "cell_type": "markdown",
      "source": [
        "Objective:\n",
        "To understand and apply content analysis techniques such as text preprocessing, word frequency analysis, keyword extraction (TF-IDF), and sentiment analysis on a given text dataset using Python."
      ],
      "metadata": {
        "id": "qDF_fWalGCyV"
      }
    },
    {
      "cell_type": "markdown",
      "source": [
        "Instructions:\n",
        "\n",
        "Task 1: Setup and Data Loading\n",
        "\n",
        "Task 2: Text Preprocessing\n",
        "\n",
        "* Clean the Text:Remove punctuation, convert text to lowercase, remove stop words, and tokenize the text.\n",
        "* Tokenization (Optional):\n",
        "\n",
        "If desired, further break down the cleaned text into individual tokens.\n",
        "\n",
        "Task 3: Word Frequency Analysis\n",
        "* Compute Word Frequency:\n",
        "Count the frequency of each word in the cleaned text\n",
        "\n",
        "Task 4: Keyword Extraction (TF-IDF)\n",
        "* Compute TF-IDF: Use TfidfVectorizer from sklearn to extract important keywords.\n",
        "\n",
        "Task 4: Sentiment Analysis\n",
        "* Perform sentiment analysis: Use nltk's VADER tool for sentiment analysis.\n",
        "\n",
        "* Categorize sentiment: Label text as positive, neutral, or negative based on sentiment score.\n",
        "\n",
        "* Analyze Sentiment Distribution:\n",
        "Plot a pie chart to show the distribution of positive, negative, and neutral reviews."
      ],
      "metadata": {
        "id": "qmM_seAFGEcU"
      }
    },
    {
      "cell_type": "code",
      "source": [
        "import os\n",
        "import tarfile\n",
        "import urllib.request\n",
        "\n",
        "url = 'https://ai.stanford.edu/~amaas/data/sentiment/aclImdb_v1.tar.gz'\n",
        "dataset_folder = './aclImdb'\n",
        "\n",
        "if not os.path.exists(dataset_folder):\n",
        "    urllib.request.urlretrieve(url, 'aclImdb_v1.tar.gz')\n",
        "\n",
        "    with tarfile.open('aclImdb_v1.tar.gz', 'r:gz') as tar:\n",
        "        tar.extractall()\n",
        "\n",
        "train_pos_dir = './aclImdb/train/pos/'\n",
        "train_neg_dir = './aclImdb/train/neg/'\n"
      ],
      "metadata": {
        "id": "fcx2b5CzD1Mg"
      },
      "execution_count": 2,
      "outputs": []
    },
    {
      "cell_type": "code",
      "source": [
        "import pandas as pd\n",
        "\n",
        "def load_reviews_from_directory(directory):\n",
        "    reviews = []\n",
        "    for filename in os.listdir(directory):\n",
        "        if filename.endswith('.txt'):\n",
        "            with open(os.path.join(directory, filename), 'r', encoding='utf-8') as file:\n",
        "                reviews.append(file.read())\n",
        "    return reviews\n",
        "\n",
        "positive_reviews = load_reviews_from_directory(train_pos_dir)\n",
        "negative_reviews = load_reviews_from_directory(train_neg_dir)\n",
        "\n",
        "df_pos = pd.DataFrame({'review': positive_reviews, 'sentiment': 'positive'})\n",
        "df_neg = pd.DataFrame({'review': negative_reviews, 'sentiment': 'negative'})\n",
        "\n",
        "df = pd.concat([df_pos, df_neg], ignore_index=True)"
      ],
      "metadata": {
        "id": "KSe4XvewE06w"
      },
      "execution_count": 3,
      "outputs": []
    },
    {
      "cell_type": "code",
      "source": [
        "import string\n",
        "from nltk.corpus import stopwords\n",
        "import nltk\n",
        "nltk.download('stopwords')\n",
        "\n",
        "stop_words = set(stopwords.words('english'))\n",
        "\n",
        "def clean_text(text):\n",
        "    text = text.translate(str.maketrans('', '', string.punctuation))\n",
        "    text = text.lower()\n",
        "    tokens = text.split()\n",
        "    tokens = [word for word in tokens if word not in stop_words]\n",
        "    return ' '.join(tokens)\n",
        "\n",
        "df['cleaned_review'] = df['review'].apply(clean_text)"
      ],
      "metadata": {
        "id": "WwQ32mtcFENS",
        "outputId": "3e86d412-9357-4bb4-ff20-c4c74fc702b3",
        "colab": {
          "base_uri": "https://localhost:8080/"
        }
      },
      "execution_count": 4,
      "outputs": [
        {
          "output_type": "stream",
          "name": "stderr",
          "text": [
            "[nltk_data] Downloading package stopwords to /root/nltk_data...\n",
            "[nltk_data]   Unzipping corpora/stopwords.zip.\n"
          ]
        }
      ]
    },
    {
      "cell_type": "code",
      "source": [
        "from collections import Counter\n",
        "\n",
        "all_words = ' '.join(df['cleaned_review']).split()\n",
        "\n",
        "word_freq = Counter(all_words)\n",
        "\n",
        "print(\"Most common words:\", word_freq.most_common(10))"
      ],
      "metadata": {
        "id": "YGskePVhFM80",
        "outputId": "f6a9b4ab-d099-4951-cac7-a0faef1d3f4b",
        "colab": {
          "base_uri": "https://localhost:8080/"
        }
      },
      "execution_count": 5,
      "outputs": [
        {
          "output_type": "stream",
          "name": "stdout",
          "text": [
            "Most common words: [('br', 57143), ('movie', 41807), ('film', 37455), ('one', 25508), ('like', 19641), ('good', 14555), ('even', 12503), ('would', 12135), ('time', 11779), ('really', 11663)]\n"
          ]
        }
      ]
    },
    {
      "cell_type": "code",
      "source": [
        "from sklearn.feature_extraction.text import TfidfVectorizer\n",
        "\n",
        "vectorizer = TfidfVectorizer(max_features=10)\n",
        "tfidf_matrix = vectorizer.fit_transform(df['cleaned_review'])\n",
        "\n",
        "keywords = vectorizer.get_feature_names_out()\n",
        "tfidf_scores = tfidf_matrix.toarray()\n",
        "\n",
        "tfidf_df = pd.DataFrame(tfidf_scores, columns=keywords)\n",
        "print(tfidf_df.head())"
      ],
      "metadata": {
        "id": "ShfR3F4WFR5t",
        "outputId": "e6e0f4e8-76d3-4f13-bac6-600163570160",
        "colab": {
          "base_uri": "https://localhost:8080/"
        }
      },
      "execution_count": 6,
      "outputs": [
        {
          "output_type": "stream",
          "name": "stdout",
          "text": [
            "         br      even      film      good      like     movie       one  \\\n",
            "0  0.413943  0.000000  0.870298  0.266895  0.000000  0.000000  0.000000   \n",
            "1  0.712755  0.000000  0.149854  0.000000  0.165644  0.561954  0.296539   \n",
            "2  0.501830  0.000000  0.000000  0.000000  0.000000  0.659427  0.173987   \n",
            "3  0.430965  0.589402  0.000000  0.555740  0.250391  0.212365  0.224127   \n",
            "4  0.000000  0.000000  0.613491  0.000000  0.678137  0.000000  0.404671   \n",
            "\n",
            "    really      time     would  \n",
            "0  0.00000  0.000000  0.000000  \n",
            "1  0.00000  0.195853  0.000000  \n",
            "2  0.47806  0.000000  0.233474  \n",
            "3  0.00000  0.000000  0.000000  \n",
            "4  0.00000  0.000000  0.000000  \n"
          ]
        }
      ]
    },
    {
      "cell_type": "code",
      "source": [
        "nltk.download('vader_lexicon')"
      ],
      "metadata": {
        "id": "irmXHN29Fjq_",
        "outputId": "13eb1037-0e2b-4bbf-c621-21386e1443dc",
        "colab": {
          "base_uri": "https://localhost:8080/"
        }
      },
      "execution_count": 8,
      "outputs": [
        {
          "output_type": "stream",
          "name": "stderr",
          "text": [
            "[nltk_data] Downloading package vader_lexicon to /root/nltk_data...\n"
          ]
        },
        {
          "output_type": "execute_result",
          "data": {
            "text/plain": [
              "True"
            ]
          },
          "metadata": {},
          "execution_count": 8
        }
      ]
    },
    {
      "cell_type": "code",
      "source": [
        "from nltk.sentiment import SentimentIntensityAnalyzer\n",
        "\n",
        "sia = SentimentIntensityAnalyzer()\n",
        "\n",
        "def get_sentiment(text):\n",
        "    scores = sia.polarity_scores(text)\n",
        "    if scores['compound'] >= 0.05:\n",
        "        return 'positive'\n",
        "    elif scores['compound'] <= -0.05:\n",
        "        return 'negative'\n",
        "    else:\n",
        "        return 'neutral'\n",
        "\n",
        "df['predicted_sentiment'] = df['cleaned_review'].apply(get_sentiment)"
      ],
      "metadata": {
        "id": "yu9eFXjPFYGk"
      },
      "execution_count": 9,
      "outputs": []
    },
    {
      "cell_type": "code",
      "source": [
        "import matplotlib.pyplot as plt\n",
        "\n",
        "sentiment_counts = df['predicted_sentiment'].value_counts()\n",
        "\n",
        "plt.figure(figsize=(6, 6))\n",
        "plt.pie(sentiment_counts, labels=sentiment_counts.index, autopct='%1.1f%%', startangle=140)\n",
        "plt.title('Sentiment Distribution')\n",
        "plt.show()"
      ],
      "metadata": {
        "id": "YKdmTB9RFfA4",
        "outputId": "42d0b44d-76fa-487e-926c-a7a355736a05",
        "colab": {
          "base_uri": "https://localhost:8080/",
          "height": 521
        }
      },
      "execution_count": 10,
      "outputs": [
        {
          "output_type": "display_data",
          "data": {
            "text/plain": [
              "<Figure size 600x600 with 1 Axes>"
            ],
            "image/png": "[encoded data removed]"
          },
          "metadata": {}
        }
      ]
    }
  ]
}